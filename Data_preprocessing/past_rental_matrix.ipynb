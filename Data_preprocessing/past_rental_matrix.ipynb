{
 "cells": [
  {
   "cell_type": "code",
   "execution_count": 25,
   "id": "4d6a9196",
   "metadata": {},
   "outputs": [],
   "source": [
    "import pandas as pd\n",
    "\n",
    "\n",
    "raw_01 = pd.read_csv('/Users/jhchoi/Desktop/DS 공모전/bicycle_month/bicycle_22.01.csv', encoding='cp949')\n",
    "raw_02 = pd.read_csv('/Users/jhchoi/Desktop/DS 공모전/bicycle_month/bicycle_22.02.csv', encoding='cp949')\n",
    "raw_03 = pd.read_csv('/Users/jhchoi/Desktop/DS 공모전/bicycle_month/bicycle_22.03.csv', encoding='cp949')\n",
    "raw_04 = pd.read_csv('/Users/jhchoi/Desktop/DS 공모전/bicycle_month/bicycle_22.04.csv', encoding='cp949')\n",
    "raw_05 = pd.read_csv('/Users/jhchoi/Desktop/DS 공모전/bicycle_month/bicycle_22.05.csv', encoding='cp949')\n",
    "raw_06 = pd.read_csv('/Users/jhchoi/Desktop/DS 공모전/bicycle_month/bicycle_22.06.csv', encoding='cp949')\n",
    "raw_07 = pd.read_csv('/Users/jhchoi/Desktop/DS 공모전/bicycle_month/bicycle_22.07.csv', encoding='cp949')\n",
    "raw_08 = pd.read_csv('/Users/jhchoi/Desktop/DS 공모전/bicycle_month/bicycle_22.08.csv', encoding='cp949')\n",
    "raw_09 = pd.read_csv('/Users/jhchoi/Desktop/DS 공모전/bicycle_month/bicycle_22.09.csv', encoding='cp949')\n",
    "raw_10 = pd.read_csv('/Users/jhchoi/Desktop/DS 공모전/bicycle_month/bicycle_22.10.csv', encoding='cp949')\n",
    "raw_11 = pd.read_csv('/Users/jhchoi/Desktop/DS 공모전/bicycle_month/bicycle_22.11.csv', encoding='cp949')\n",
    "raw_12 = pd.read_csv('/Users/jhchoi/Desktop/DS 공모전/bicycle_month/bicycle_22.12.csv', encoding='cp949')"
   ]
  },
  {
   "cell_type": "code",
   "execution_count": null,
   "id": "ce4560c0",
   "metadata": {},
   "outputs": [],
   "source": [
    "raw_07 = raw_07.iloc[:,:11]\n",
    "raw_08 = raw_08.iloc[:,:11]\n",
    "raw_09 = raw_09.iloc[:,:11]\n",
    "raw_10 = raw_10.iloc[:,:11]\n",
    "raw_11 = raw_11.iloc[:,:11]\n",
    "raw_12 = raw_12.iloc[:,:11]"
   ]
  },
  {
   "cell_type": "code",
   "execution_count": null,
   "id": "f4a99f87",
   "metadata": {},
   "outputs": [],
   "source": [
    "raw_1 = pd.concat([raw_01,raw_02,raw_03,raw_04,raw_05,raw_06], axis = 0)\n",
    "raw_2 = pd.concat([raw_07,raw_08,raw_09,raw_10,raw_11,raw_12], axis = 0)"
   ]
  },
  {
   "cell_type": "code",
   "execution_count": null,
   "id": "f9d21166",
   "metadata": {},
   "outputs": [],
   "source": [
    "raw_2 = raw_2.rename(columns = {'이용시간(분)':'이용시간','이용거리(M)':'이용거리' })"
   ]
  },
  {
   "cell_type": "code",
   "execution_count": null,
   "id": "e0f67f87",
   "metadata": {},
   "outputs": [],
   "source": [
    "raw = pd.concat([raw_1,raw_2], axis = 0)"
   ]
  },
  {
   "cell_type": "code",
   "execution_count": null,
   "id": "96bf3872",
   "metadata": {},
   "outputs": [],
   "source": [
    "raw = raw[raw['이용거리'] != 0]"
   ]
  },
  {
   "cell_type": "code",
   "execution_count": 15,
   "id": "00cccb8a",
   "metadata": {},
   "outputs": [],
   "source": [
    "raw['대여일시'] = raw['대여일시'].str.split(' ').str[0]"
   ]
  },
  {
   "cell_type": "code",
   "execution_count": 16,
   "id": "25bb28ab",
   "metadata": {},
   "outputs": [],
   "source": [
    "df2 = raw.iloc[:,[1,2]]"
   ]
  },
  {
   "cell_type": "code",
   "execution_count": 18,
   "id": "6e753adf",
   "metadata": {},
   "outputs": [],
   "source": [
    "df2 = df2.sort_values(by = '대여 대여소번호')"
   ]
  },
  {
   "cell_type": "code",
   "execution_count": 1,
   "id": "0d6bb41e",
   "metadata": {},
   "outputs": [],
   "source": [
    "crosstab2 = pd.crosstab(index=df2['대여 대여소번호'], columns=df2['대여일시'])"
   ]
  },
  {
   "cell_type": "code",
   "execution_count": 23,
   "id": "39037b98",
   "metadata": {},
   "outputs": [
    {
     "data": {
      "text/plain": [
       "0"
      ]
     },
     "execution_count": 23,
     "metadata": {},
     "output_type": "execute_result"
    }
   ],
   "source": [
    "sum(crosstab.index != crosstab.index)"
   ]
  },
  {
   "cell_type": "code",
   "execution_count": 21,
   "id": "099d40f3",
   "metadata": {},
   "outputs": [],
   "source": [
    "crosstab2.to_csv('crosstab2.csv')"
   ]
  }
 ],
 "metadata": {
  "kernelspec": {
   "display_name": "Python 3 (ipykernel)",
   "language": "python",
   "name": "python3"
  },
  "language_info": {
   "codemirror_mode": {
    "name": "ipython",
    "version": 3
   },
   "file_extension": ".py",
   "mimetype": "text/x-python",
   "name": "python",
   "nbconvert_exporter": "python",
   "pygments_lexer": "ipython3",
   "version": "3.9.12"
  }
 },
 "nbformat": 4,
 "nbformat_minor": 5
}
